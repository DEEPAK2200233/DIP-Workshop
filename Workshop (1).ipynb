{
 "cells": [
  {
   "cell_type": "code",
   "execution_count": 7,
   "id": "632fb1b5",
   "metadata": {},
   "outputs": [],
   "source": [
    "import cv2"
   ]
  },
  {
   "cell_type": "code",
   "execution_count": 14,
   "id": "1aa7ce5f",
   "metadata": {},
   "outputs": [],
   "source": [
    "# Read the image\n",
    "image1 = cv2.imread('vijay.JPEG')\n",
    "image2= cv2.imread('loki.JPEG')"
   ]
  },
  {
   "cell_type": "code",
   "execution_count": 15,
   "id": "302ea306",
   "metadata": {},
   "outputs": [
    {
     "data": {
      "text/plain": [
       "(259, 194, 3)"
      ]
     },
     "execution_count": 15,
     "metadata": {},
     "output_type": "execute_result"
    }
   ],
   "source": [
    "image1.shape"
   ]
  },
  {
   "cell_type": "code",
   "execution_count": 16,
   "id": "153e4de4",
   "metadata": {},
   "outputs": [],
   "source": [
    "# Resize both images to the desired size (160,200)\n",
    "new_size=(160,200) #(width,height)\n",
    "image1_resized=cv2.resize(image1,new_size)\n",
    "image2_resized=cv2.resize(image2,new_size)"
   ]
  },
  {
   "cell_type": "code",
   "execution_count": 17,
   "id": "280f5ca0",
   "metadata": {},
   "outputs": [
    {
     "data": {
      "text/plain": [
       "(200, 160, 3)"
      ]
     },
     "execution_count": 17,
     "metadata": {},
     "output_type": "execute_result"
    }
   ],
   "source": [
    "image1_resized.shape"
   ]
  },
  {
   "cell_type": "code",
   "execution_count": 18,
   "id": "ac74eb34",
   "metadata": {},
   "outputs": [
    {
     "data": {
      "text/plain": [
       "(200, 160, 3)"
      ]
     },
     "execution_count": 18,
     "metadata": {},
     "output_type": "execute_result"
    }
   ],
   "source": [
    "image2_resized.shape"
   ]
  },
  {
   "cell_type": "code",
   "execution_count": 19,
   "id": "fe57228f",
   "metadata": {},
   "outputs": [],
   "source": [
    "height=200\n",
    "width=160"
   ]
  },
  {
   "cell_type": "code",
   "execution_count": 20,
   "id": "682cdf66",
   "metadata": {},
   "outputs": [],
   "source": [
    "# Define row and column coordinates for splitting\n",
    "row_mid=100\n",
    "col_mid=80"
   ]
  },
  {
   "cell_type": "code",
   "execution_count": 21,
   "id": "533949d8",
   "metadata": {},
   "outputs": [],
   "source": [
    "# Split the image into 4 regions using row and column coordinates\n",
    "R1= image2_resized[0:row_mid,0:col_mid]\n",
    "R2= image2_resized[0:row_mid,0:width]\n",
    "R3= image2_resized[row_mid:height,0:col_mid]\n",
    "R4= image2_resized[row_mid:height,col_mid:width]"
   ]
  },
  {
   "cell_type": "code",
   "execution_count": 22,
   "id": "d8980340",
   "metadata": {},
   "outputs": [],
   "source": [
    "# Split the image into 4 regions using row and column coordinates\n",
    "R5= image1_resized[0:row_mid,0:col_mid]\n",
    "R6= image1_resized[0:row_mid,0:width]\n",
    "R7= image1_resized[row_mid:height,0:col_mid]\n",
    "R8= image1_resized[row_mid:height,col_mid:width]"
   ]
  },
  {
   "cell_type": "code",
   "execution_count": null,
   "id": "577b363f",
   "metadata": {},
   "outputs": [],
   "source": [
    "# Display the regions (optional)\n",
    "cv2.imshow('Top-Left Region', R1)\n",
    "cv2.imshow('Top-Right Region', R2)\n",
    "cv2.imshow('Bottom-Left Region', R3)\n",
    "cv2.imshow('Bottom-Right Region', R4)\n",
    "cv2.waitKey(0)\n",
    "cv2.destroyAllWindows()"
   ]
  },
  {
   "cell_type": "code",
   "execution_count": null,
   "id": "6c1de512",
   "metadata": {},
   "outputs": [],
   "source": [
    "# Display the regions (optional)\n",
    "cv2.imshow('Top-Left Region', R5)\n",
    "cv2.imshow('Top-Right Region', R6)\n",
    "cv2.imshow('Bottom-Left Region', R7)\n",
    "cv2.imshow('Bottom-Right Region', R8)\n",
    "cv2.waitKey(0)\n",
    "cv2.destroyAllWindows()"
   ]
  },
  {
   "cell_type": "code",
   "execution_count": null,
   "id": "8a043659",
   "metadata": {},
   "outputs": [],
   "source": [
    "cv2.imwrite('R1.jpg',R1)\n",
    "cv2.imwrite('R2.jpg',R2)\n",
    "cv2.imwrite('R3.jpg',R3)\n",
    "cv2.imwrite('R4.jpg',R4)"
   ]
  },
  {
   "cell_type": "code",
   "execution_count": null,
   "id": "6baaca5e",
   "metadata": {},
   "outputs": [],
   "source": [
    "cv2.imwrite('R5.jpg',R5)\n",
    "cv2.imwrite('R6.jpg',R6)\n",
    "cv2.imwrite('R7.jpg',R7)\n",
    "cv2.imwrite('R8.jpg',R8)"
   ]
  },
  {
   "cell_type": "code",
   "execution_count": null,
   "id": "2612ed19",
   "metadata": {},
   "outputs": [],
   "source": [
    "image1_resized[0:row_mid,0:col_mid] = R1\n",
    "image2_resized[row_mid:height,col_mid:width] = R8"
   ]
  },
  {
   "cell_type": "code",
   "execution_count": null,
   "id": "ff7665ca",
   "metadata": {},
   "outputs": [],
   "source": [
    "cv2.imshow('Image Window', image1_resized)\n",
    "cv2.waitKey(0)\n",
    "cv2.destroyAllWindows()"
   ]
  },
  {
   "cell_type": "code",
   "execution_count": null,
   "id": "69385fa6",
   "metadata": {},
   "outputs": [],
   "source": [
    "cv2.imshow('Image Window', image2_resized)\n",
    "cv2.waitKey(0)\n",
    "cv2.destroyAllWindows()"
   ]
  },
  {
   "cell_type": "code",
   "execution_count": null,
   "id": "c35da9e3",
   "metadata": {},
   "outputs": [],
   "source": [
    "cv2.imwrite('image1_resized.jpg',image1_resized)\n",
    "cv2.imwrite('image2_resized.jpg',image2_resized)"
   ]
  }
 ],
 "metadata": {
  "kernelspec": {
   "display_name": "Python 3 (ipykernel)",
   "language": "python",
   "name": "python3"
  },
  "language_info": {
   "codemirror_mode": {
    "name": "ipython",
    "version": 3
   },
   "file_extension": ".py",
   "mimetype": "text/x-python",
   "name": "python",
   "nbconvert_exporter": "python",
   "pygments_lexer": "ipython3",
   "version": "3.11.5"
  }
 },
 "nbformat": 4,
 "nbformat_minor": 5
}
